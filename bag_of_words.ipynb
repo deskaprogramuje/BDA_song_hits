{
 "cells": [
  {
   "cell_type": "code",
   "execution_count": 1,
   "metadata": {},
   "outputs": [],
   "source": [
    "import pandas as pd\n",
    "import numpy as np\n",
    "from sklearn.feature_extraction.text import CountVectorizer\n",
    "from sklearn.model_selection import cross_val_score\n",
    "from sklearn.linear_model import LogisticRegression\n",
    "from sklearn.metrics import accuracy_score, precision_score, recall_score, f1_score"
   ]
  },
  {
   "cell_type": "code",
   "execution_count": 7,
   "metadata": {},
   "outputs": [
    {
     "data": {
      "text/html": [
       "<div>\n",
       "<style scoped>\n",
       "    .dataframe tbody tr th:only-of-type {\n",
       "        vertical-align: middle;\n",
       "    }\n",
       "\n",
       "    .dataframe tbody tr th {\n",
       "        vertical-align: top;\n",
       "    }\n",
       "\n",
       "    .dataframe thead th {\n",
       "        text-align: right;\n",
       "    }\n",
       "</style>\n",
       "<table border=\"1\" class=\"dataframe\">\n",
       "  <thead>\n",
       "    <tr style=\"text-align: right;\">\n",
       "      <th></th>\n",
       "      <th>artist</th>\n",
       "      <th>song</th>\n",
       "      <th>lyrics</th>\n",
       "    </tr>\n",
       "  </thead>\n",
       "  <tbody>\n",
       "    <tr>\n",
       "      <th>0</th>\n",
       "      <td>YG</td>\n",
       "      <td>BAND DRUM (feat. A$AP Rocky)</td>\n",
       "      <td>I mix the 4Hunnid with the designer  Stay lace...</td>\n",
       "    </tr>\n",
       "    <tr>\n",
       "      <th>1</th>\n",
       "      <td>Chris Cooq</td>\n",
       "      <td>Lactose</td>\n",
       "      <td>I came to rule this stage with that Budden swa...</td>\n",
       "    </tr>\n",
       "    <tr>\n",
       "      <th>2</th>\n",
       "      <td>Chris Cooq</td>\n",
       "      <td>Same - Original mix</td>\n",
       "      <td>Gorillaz - Song Machine Episode 7 - 4/4  mxmto...</td>\n",
       "    </tr>\n",
       "    <tr>\n",
       "      <th>3</th>\n",
       "      <td>Curbo</td>\n",
       "      <td>Debauchery - Original mix</td>\n",
       "      <td>Learning is, indeed, a very great and a very...</td>\n",
       "    </tr>\n",
       "    <tr>\n",
       "      <th>4</th>\n",
       "      <td>G Herbo</td>\n",
       "      <td>Bon appétit</td>\n",
       "      <td>Young nigga eatin', uh, bon appetit, uh  Messe...</td>\n",
       "    </tr>\n",
       "    <tr>\n",
       "      <th>...</th>\n",
       "      <td>...</td>\n",
       "      <td>...</td>\n",
       "      <td>...</td>\n",
       "    </tr>\n",
       "    <tr>\n",
       "      <th>3473</th>\n",
       "      <td>The Nurseries</td>\n",
       "      <td>If You're Happy and You Know It</td>\n",
       "      <td>“I wish you would manage the time to come in...</td>\n",
       "    </tr>\n",
       "    <tr>\n",
       "      <th>3474</th>\n",
       "      <td>The Nurseries</td>\n",
       "      <td>Row Row Row Your Boat</td>\n",
       "      <td>And black are the waters that sparkled so gree...</td>\n",
       "    </tr>\n",
       "    <tr>\n",
       "      <th>3475</th>\n",
       "      <td>The Nurseries</td>\n",
       "      <td>Mary Had a Little Lamb</td>\n",
       "      <td>BOOK I.    THE SOFA.    [\"The history of...</td>\n",
       "    </tr>\n",
       "    <tr>\n",
       "      <th>3476</th>\n",
       "      <td>Nathan K.</td>\n",
       "      <td>If I Die</td>\n",
       "      <td>Yes sir, know what I'm talkin' 'bout?  Legenda...</td>\n",
       "    </tr>\n",
       "    <tr>\n",
       "      <th>3477</th>\n",
       "      <td>Angel Noise</td>\n",
       "      <td>Humo</td>\n",
       "      <td>01/02    Galante El Emperador &amp; Klaylex — Re...</td>\n",
       "    </tr>\n",
       "  </tbody>\n",
       "</table>\n",
       "<p>3478 rows × 3 columns</p>\n",
       "</div>"
      ],
      "text/plain": [
       "             artist                             song  \\\n",
       "0                YG     BAND DRUM (feat. A$AP Rocky)   \n",
       "1        Chris Cooq                          Lactose   \n",
       "2        Chris Cooq              Same - Original mix   \n",
       "3             Curbo        Debauchery - Original mix   \n",
       "4           G Herbo                      Bon appétit   \n",
       "...             ...                              ...   \n",
       "3473  The Nurseries  If You're Happy and You Know It   \n",
       "3474  The Nurseries            Row Row Row Your Boat   \n",
       "3475  The Nurseries           Mary Had a Little Lamb   \n",
       "3476      Nathan K.                         If I Die   \n",
       "3477    Angel Noise                             Humo   \n",
       "\n",
       "                                                 lyrics  \n",
       "0     I mix the 4Hunnid with the designer  Stay lace...  \n",
       "1     I came to rule this stage with that Budden swa...  \n",
       "2     Gorillaz - Song Machine Episode 7 - 4/4  mxmto...  \n",
       "3       Learning is, indeed, a very great and a very...  \n",
       "4     Young nigga eatin', uh, bon appetit, uh  Messe...  \n",
       "...                                                 ...  \n",
       "3473    “I wish you would manage the time to come in...  \n",
       "3474  And black are the waters that sparkled so gree...  \n",
       "3475        BOOK I.    THE SOFA.    [\"The history of...  \n",
       "3476  Yes sir, know what I'm talkin' 'bout?  Legenda...  \n",
       "3477    01/02    Galante El Emperador & Klaylex — Re...  \n",
       "\n",
       "[3478 rows x 3 columns]"
      ]
     },
     "execution_count": 7,
     "metadata": {},
     "output_type": "execute_result"
    }
   ],
   "source": [
    "bad_songs = pd.read_csv('datasets/bad_cleaned2.csv')\n",
    "bad_songs.dropna(inplace=True)\n",
    "bad_songs\n",
    "#see this?"
   ]
  },
  {
   "cell_type": "code",
   "execution_count": 8,
   "metadata": {},
   "outputs": [
    {
     "data": {
      "text/html": [
       "<div>\n",
       "<style scoped>\n",
       "    .dataframe tbody tr th:only-of-type {\n",
       "        vertical-align: middle;\n",
       "    }\n",
       "\n",
       "    .dataframe tbody tr th {\n",
       "        vertical-align: top;\n",
       "    }\n",
       "\n",
       "    .dataframe thead th {\n",
       "        text-align: right;\n",
       "    }\n",
       "</style>\n",
       "<table border=\"1\" class=\"dataframe\">\n",
       "  <thead>\n",
       "    <tr style=\"text-align: right;\">\n",
       "      <th></th>\n",
       "      <th>lyrics</th>\n",
       "    </tr>\n",
       "  </thead>\n",
       "  <tbody>\n",
       "    <tr>\n",
       "      <th>0</th>\n",
       "      <td>sam the sham miscellaneous wooly bully wooly b...</td>\n",
       "    </tr>\n",
       "    <tr>\n",
       "      <th>1</th>\n",
       "      <td>sugar pie honey bunch you know that i love yo...</td>\n",
       "    </tr>\n",
       "    <tr>\n",
       "      <th>2</th>\n",
       "      <td>when i woke up this morning you were on my mi...</td>\n",
       "    </tr>\n",
       "    <tr>\n",
       "      <th>3</th>\n",
       "      <td>you never close your eyes anymore when i kiss...</td>\n",
       "    </tr>\n",
       "    <tr>\n",
       "      <th>4</th>\n",
       "      <td>when youre alone and life is making you lonel...</td>\n",
       "    </tr>\n",
       "    <tr>\n",
       "      <th>...</th>\n",
       "      <td>...</td>\n",
       "    </tr>\n",
       "    <tr>\n",
       "      <th>4861</th>\n",
       "      <td>my face above the water my feet cant touch th...</td>\n",
       "    </tr>\n",
       "    <tr>\n",
       "      <th>4862</th>\n",
       "      <td>enrique iglesias dime si es verdad me dijeron ...</td>\n",
       "    </tr>\n",
       "    <tr>\n",
       "      <th>4863</th>\n",
       "      <td>going out tonight changes into something red ...</td>\n",
       "    </tr>\n",
       "    <tr>\n",
       "      <th>4864</th>\n",
       "      <td>oh man oh man oh man not againyeah i learned ...</td>\n",
       "    </tr>\n",
       "    <tr>\n",
       "      <th>4865</th>\n",
       "      <td>i want you to breathe me in let me be your ai...</td>\n",
       "    </tr>\n",
       "  </tbody>\n",
       "</table>\n",
       "<p>4866 rows × 1 columns</p>\n",
       "</div>"
      ],
      "text/plain": [
       "                                                 lyrics\n",
       "0     sam the sham miscellaneous wooly bully wooly b...\n",
       "1      sugar pie honey bunch you know that i love yo...\n",
       "2      when i woke up this morning you were on my mi...\n",
       "3      you never close your eyes anymore when i kiss...\n",
       "4      when youre alone and life is making you lonel...\n",
       "...                                                 ...\n",
       "4861   my face above the water my feet cant touch th...\n",
       "4862  enrique iglesias dime si es verdad me dijeron ...\n",
       "4863   going out tonight changes into something red ...\n",
       "4864   oh man oh man oh man not againyeah i learned ...\n",
       "4865   i want you to breathe me in let me be your ai...\n",
       "\n",
       "[4866 rows x 1 columns]"
      ]
     },
     "execution_count": 8,
     "metadata": {},
     "output_type": "execute_result"
    }
   ],
   "source": [
    "good_songs = pd.read_csv('datasets/good_cleaned.csv')\n",
    "good_songs = good_songs[['lyrics']].copy()\n",
    "good_songs"
   ]
  },
  {
   "cell_type": "code",
   "execution_count": 9,
   "metadata": {},
   "outputs": [],
   "source": [
    "'''splitting'''\n",
    "from sklearn.model_selection import train_test_split\n",
    "\n",
    "# Combine the two dataframes into one\n",
    "main = pd.concat([good_songs, bad_songs], ignore_index=True)\n",
    "\n",
    "# Create a new column 'label' with 1 for good songs and 0 for bad songs\n",
    "main['label'] = (main['lyrics'].isin(good_songs['lyrics'])) * 1\n",
    "\n",
    "# Split the data into training and test sets\n",
    "X_train, X_test, y_train, y_test = train_test_split(main['lyrics'], main['label'], test_size=0.2, random_state=42)\n",
    "\n",
    "y_test = y_test.values.reshape(-1, 1)"
   ]
  },
  {
   "cell_type": "code",
   "execution_count": 10,
   "metadata": {},
   "outputs": [],
   "source": [
    "'''applying bag of words'''\n",
    "\n",
    "# Create a CountVectorizer object\n",
    "vect = CountVectorizer() #(min_df=5)\n",
    "\n",
    "text_train = vect.fit_transform(X_train)\n",
    "text_test = vect.transform(X_test)"
   ]
  },
  {
   "cell_type": "code",
   "execution_count": 47,
   "metadata": {},
   "outputs": [
    {
     "data": {
      "image/png": "[encoded data removed]",
      "text/plain": [
       "<Figure size 576x864 with 1 Axes>"
      ]
     },
     "metadata": {
      "needs_background": "light"
     },
     "output_type": "display_data"
    }
   ],
   "source": [
    "# Get the feature names from the CountVectorizer\n",
    "feature_names = vect.get_feature_names()\n",
    "\n",
    "# Calculate the word frequencies in the training set\n",
    "word_frequencies = X_train_bow.sum(axis=0).A1\n",
    "\n",
    "# Get the indices of the top 50 most frequent words\n",
    "top_indices = word_frequencies.argsort()[-50:][::-1]  # Reverse the order\n",
    "\n",
    "# Get the corresponding word labels\n",
    "top_words = [feature_names[idx] for idx in top_indices]\n",
    "\n",
    "# Plot the bar chart with switched axes and reversed order\n",
    "plt.figure(figsize=(8, 12))\n",
    "plt.bar(range(len(top_words)), word_frequencies[top_indices], align='center')\n",
    "plt.xticks(range(len(top_words)), top_words, rotation=90)\n",
    "plt.ylabel('Word Frequency')\n",
    "plt.xlabel('Word')\n",
    "plt.title('Top 50 Most Popular Words')\n",
    "plt.tight_layout()\n",
    "plt.show()\n"
   ]
  },
  {
   "cell_type": "code",
   "execution_count": 11,
   "metadata": {},
   "outputs": [
    {
     "name": "stdout",
     "output_type": "stream",
     "text": [
      "text_train:\n",
      "<6675x278978 sparse matrix of type '<class 'numpy.int64'>'\n",
      "\twith 3696204 stored elements in Compressed Sparse Row format>\n"
     ]
    }
   ],
   "source": [
    "print(\"text_train:\\n{}\".format(repr(text_train)))\n",
    "#shape of our text_train is 8106x327664 - vocabulary contains 327664 entries (features) stored as SciPy sparse matrix\n",
    "#shape after constraint to have appearance in at least 5 documents, shrinks to 108184 features"
   ]
  },
  {
   "cell_type": "code",
   "execution_count": 12,
   "metadata": {},
   "outputs": [
    {
     "name": "stdout",
     "output_type": "stream",
     "text": [
      "Accuracy: 0.9886159376872379\n"
     ]
    },
    {
     "name": "stderr",
     "output_type": "stream",
     "text": [
      "c:\\Users\\kubad\\AppData\\Local\\Programs\\Python\\Python310\\lib\\site-packages\\sklearn\\linear_model\\_logistic.py:444: ConvergenceWarning: lbfgs failed to converge (status=1):\n",
      "STOP: TOTAL NO. of ITERATIONS REACHED LIMIT.\n",
      "\n",
      "Increase the number of iterations (max_iter) or scale the data as shown in:\n",
      "    https://scikit-learn.org/stable/modules/preprocessing.html\n",
      "Please also refer to the documentation for alternative solver options:\n",
      "    https://scikit-learn.org/stable/modules/linear_model.html#logistic-regression\n",
      "  n_iter_i = _check_optimize_result(\n"
     ]
    }
   ],
   "source": [
    "# Create a logistic regression object and fit the model on the training data\n",
    "lr = LogisticRegression()\n",
    "lr.fit(text_train, y_train)\n",
    "\n",
    "# Evaluate the model on the test data\n",
    "score = lr.score(text_test, y_test)\n",
    "print(\"Accuracy:\", score)"
   ]
  }
 ],
 "metadata": {
  "kernelspec": {
   "display_name": "Python 3",
   "language": "python",
   "name": "python3"
  },
  "language_info": {
   "codemirror_mode": {
    "name": "ipython",
    "version": 3
   },
   "file_extension": ".py",
   "mimetype": "text/x-python",
   "name": "python",
   "nbconvert_exporter": "python",
   "pygments_lexer": "ipython3",
   "version": "3.10.2"
  },
  "orig_nbformat": 4
 },
 "nbformat": 4,
 "nbformat_minor": 2
}
