{
 "cells": [
  {
   "cell_type": "code",
   "execution_count": 4,
   "metadata": {},
   "outputs": [],
   "source": [
    "import pandas as pd\n",
    "import numpy as np\n",
    "from sklearn.feature_extraction.text import CountVectorizer\n",
    "from sklearn.model_selection import cross_val_score\n",
    "from sklearn.linear_model import LogisticRegression\n",
    "from sklearn.metrics import accuracy_score, precision_score, recall_score, f1_score"
   ]
  },
  {
   "cell_type": "code",
   "execution_count": 5,
   "metadata": {},
   "outputs": [
    {
     "data": {
      "text/html": [
       "<div>\n",
       "<style scoped>\n",
       "    .dataframe tbody tr th:only-of-type {\n",
       "        vertical-align: middle;\n",
       "    }\n",
       "\n",
       "    .dataframe tbody tr th {\n",
       "        vertical-align: top;\n",
       "    }\n",
       "\n",
       "    .dataframe thead th {\n",
       "        text-align: right;\n",
       "    }\n",
       "</style>\n",
       "<table border=\"1\" class=\"dataframe\">\n",
       "  <thead>\n",
       "    <tr style=\"text-align: right;\">\n",
       "      <th></th>\n",
       "      <th>artist</th>\n",
       "      <th>song</th>\n",
       "      <th>lyrics</th>\n",
       "    </tr>\n",
       "  </thead>\n",
       "  <tbody>\n",
       "    <tr>\n",
       "      <th>0</th>\n",
       "      <td>YG</td>\n",
       "      <td>BAND DRUM (feat. A$AP Rocky)</td>\n",
       "      <td>I mix the 4Hunnid with the designer  Stay lace...</td>\n",
       "    </tr>\n",
       "    <tr>\n",
       "      <th>1</th>\n",
       "      <td>Chris Cooq</td>\n",
       "      <td>Lactose</td>\n",
       "      <td>I came to rule this stage with that Budden swa...</td>\n",
       "    </tr>\n",
       "    <tr>\n",
       "      <th>2</th>\n",
       "      <td>Chris Cooq</td>\n",
       "      <td>Same - Original mix</td>\n",
       "      <td>Gorillaz - Song Machine Episode 7 - 4/4  mxmto...</td>\n",
       "    </tr>\n",
       "    <tr>\n",
       "      <th>3</th>\n",
       "      <td>Curbo</td>\n",
       "      <td>Debauchery - Original mix</td>\n",
       "      <td>Learning is, indeed, a very great and a very...</td>\n",
       "    </tr>\n",
       "    <tr>\n",
       "      <th>4</th>\n",
       "      <td>G Herbo</td>\n",
       "      <td>Bon appétit</td>\n",
       "      <td>Young nigga eatin', uh, bon appetit, uh  Messe...</td>\n",
       "    </tr>\n",
       "    <tr>\n",
       "      <th>...</th>\n",
       "      <td>...</td>\n",
       "      <td>...</td>\n",
       "      <td>...</td>\n",
       "    </tr>\n",
       "    <tr>\n",
       "      <th>3468</th>\n",
       "      <td>King John</td>\n",
       "      <td>Mismatched</td>\n",
       "      <td>We've been dispatched by God, sent to warn the...</td>\n",
       "    </tr>\n",
       "    <tr>\n",
       "      <th>3469</th>\n",
       "      <td>Buck Meek</td>\n",
       "      <td>Cannonball!</td>\n",
       "      <td>Beats me down by the pool, sweet Suzy, summer’...</td>\n",
       "    </tr>\n",
       "    <tr>\n",
       "      <th>3470</th>\n",
       "      <td>Big Beats</td>\n",
       "      <td>Young Forever (Instrumental)</td>\n",
       "      <td>Proving himself in the booth was just the be...</td>\n",
       "    </tr>\n",
       "    <tr>\n",
       "      <th>3471</th>\n",
       "      <td>Big Beats</td>\n",
       "      <td>Escape (Instrumental)</td>\n",
       "      <td>I'm just me, I can't be different  Thoug...</td>\n",
       "    </tr>\n",
       "    <tr>\n",
       "      <th>3472</th>\n",
       "      <td>Nathan K.</td>\n",
       "      <td>If I Die</td>\n",
       "      <td>Yes sir, know what I'm talkin' 'bout?  Legenda...</td>\n",
       "    </tr>\n",
       "  </tbody>\n",
       "</table>\n",
       "<p>3473 rows × 3 columns</p>\n",
       "</div>"
      ],
      "text/plain": [
       "          artist                          song  \\\n",
       "0             YG  BAND DRUM (feat. A$AP Rocky)   \n",
       "1     Chris Cooq                       Lactose   \n",
       "2     Chris Cooq           Same - Original mix   \n",
       "3          Curbo     Debauchery - Original mix   \n",
       "4        G Herbo                   Bon appétit   \n",
       "...          ...                           ...   \n",
       "3468   King John                    Mismatched   \n",
       "3469   Buck Meek                   Cannonball!   \n",
       "3470   Big Beats  Young Forever (Instrumental)   \n",
       "3471   Big Beats         Escape (Instrumental)   \n",
       "3472   Nathan K.                      If I Die   \n",
       "\n",
       "                                                 lyrics  \n",
       "0     I mix the 4Hunnid with the designer  Stay lace...  \n",
       "1     I came to rule this stage with that Budden swa...  \n",
       "2     Gorillaz - Song Machine Episode 7 - 4/4  mxmto...  \n",
       "3       Learning is, indeed, a very great and a very...  \n",
       "4     Young nigga eatin', uh, bon appetit, uh  Messe...  \n",
       "...                                                 ...  \n",
       "3468  We've been dispatched by God, sent to warn the...  \n",
       "3469  Beats me down by the pool, sweet Suzy, summer’...  \n",
       "3470    Proving himself in the booth was just the be...  \n",
       "3471        I'm just me, I can't be different  Thoug...  \n",
       "3472  Yes sir, know what I'm talkin' 'bout?  Legenda...  \n",
       "\n",
       "[3473 rows x 3 columns]"
      ]
     },
     "execution_count": 5,
     "metadata": {},
     "output_type": "execute_result"
    }
   ],
   "source": [
    "bad_songs = pd.read_csv('datasets/bad_cleaned2.csv')\n",
    "bad_songs.dropna(inplace=True)\n",
    "bad_songs"
   ]
  },
  {
   "cell_type": "code",
   "execution_count": 6,
   "metadata": {},
   "outputs": [],
   "source": [
    "from sklearn.model_selection import train_test_split\n",
    "from sklearn.feature_extraction.text import CountVectorizer\n",
    "import nltk\n",
    "from nltk.corpus import stopwords\n",
    "import matplotlib.pyplot as plt\n",
    "\n",
    "# Read the dataset\n",
    "bad_songs = pd.read_csv('datasets/bad_cleaned2.csv')\n",
    "bad_songs.dropna(inplace=True)\n",
    "\n",
    "# Split the dataset into train and test sets\n",
    "X_train, X_test = train_test_split(bad_songs['lyrics'], test_size=0.2, random_state=42)\n",
    "\n",
    "# Combine the lyrics in the train set into a single column\n",
    "train_combined_lyrics = ' '.join(X_train)\n",
    "\n"
   ]
  },
  {
   "cell_type": "code",
   "execution_count": 8,
   "metadata": {},
   "outputs": [
    {
     "name": "stderr",
     "output_type": "stream",
     "text": [
      "[nltk_data] Downloading package stopwords to\n",
      "[nltk_data]     C:\\Users\\elits\\AppData\\Roaming\\nltk_data...\n",
      "[nltk_data]   Package stopwords is already up-to-date!\n",
      "[nltk_data] Downloading package stopwords to\n",
      "[nltk_data]     C:\\Users\\elits\\AppData\\Roaming\\nltk_data...\n",
      "[nltk_data]   Package stopwords is already up-to-date!\n"
     ]
    }
   ],
   "source": [
    "# Download the English stop words from NLTK\n",
    "nltk.download('stopwords')\n",
    "english_stop_words = stopwords.words('english')\n",
    "\n",
    "# Get the Spanish stop words from NLTK\n",
    "nltk.download('stopwords')\n",
    "spanish_stop_words = stopwords.words('spanish')\n",
    "\n",
    "# Combine the stop words into a single list\n",
    "stop_words = english_stop_words + spanish_stop_words\n",
    "\n",
    "# Create a CountVectorizer object\n",
    "vect = CountVectorizer(stop_words=stop_words)\n",
    "\n",
    "# Fit and transform the training data\n",
    "text_train = vect.fit_transform([train_combined_lyrics])\n",
    "\n",
    "# Transform the test data\n",
    "text_test = vect.transform(X_test)"
   ]
  },
  {
   "cell_type": "code",
   "execution_count": 9,
   "metadata": {},
   "outputs": [
    {
     "name": "stderr",
     "output_type": "stream",
     "text": [
      "c:\\Users\\elits\\anaconda3\\lib\\site-packages\\sklearn\\utils\\deprecation.py:87: FutureWarning: Function get_feature_names is deprecated; get_feature_names is deprecated in 1.0 and will be removed in 1.2. Please use get_feature_names_out instead.\n",
      "  warnings.warn(msg, category=FutureWarning)\n"
     ]
    },
    {
     "data": {
      "image/png": "[encoded data removed]",
      "text/plain": [
       "<Figure size 864x432 with 1 Axes>"
      ]
     },
     "metadata": {
      "needs_background": "light"
     },
     "output_type": "display_data"
    }
   ],
   "source": [
    "# Get the feature names (words) from the CountVectorizer\n",
    "feature_names = vect.get_feature_names()\n",
    "\n",
    "# Calculate the word frequencies in the training set\n",
    "word_frequencies = text_train.sum(axis=0).A1\n",
    "\n",
    "# Create a dictionary with words as keys and their corresponding frequencies as values\n",
    "word_freq_dict = dict(zip(feature_names, word_frequencies))\n",
    "\n",
    "# Sort the dictionary by word frequencies in descending order\n",
    "sorted_word_freq = sorted(word_freq_dict.items(), key=lambda x: x[1], reverse=True)\n",
    "\n",
    "# Extract the top 20 words and their frequencies\n",
    "top_words = [item[0] for item in sorted_word_freq[:20]]\n",
    "top_freqs = [item[1] for item in sorted_word_freq[:20]]\n",
    "\n",
    "# Plot the top 20 words and their frequencies\n",
    "plt.figure(figsize=(12, 6))\n",
    "plt.bar(top_words, top_freqs)\n",
    "plt.xlabel('Words')\n",
    "plt.ylabel('Frequencies')\n",
    "plt.title('Top 20 Words in Bag-of-Words Representation')\n",
    "plt.xticks(rotation=45)\n",
    "plt.tight_layout()\n",
    "plt.show()"
   ]
  },
  {
   "cell_type": "code",
   "execution_count": 11,
   "metadata": {},
   "outputs": [
    {
     "data": {
      "text/plain": [
       "2845"
      ]
     },
     "execution_count": 11,
     "metadata": {},
     "output_type": "execute_result"
    }
   ],
   "source": [
    "pd.set_option('display.max_colwidth', None)\n",
    "result = bad_songs['lyrics'].str.contains('one').sum()\n",
    "result"
   ]
  }
 ],
 "metadata": {
  "kernelspec": {
   "display_name": "base",
   "language": "python",
   "name": "python3"
  },
  "language_info": {
   "codemirror_mode": {
    "name": "ipython",
    "version": 3
   },
   "file_extension": ".py",
   "mimetype": "text/x-python",
   "name": "python",
   "nbconvert_exporter": "python",
   "pygments_lexer": "ipython3",
   "version": "3.9.12"
  },
  "orig_nbformat": 4
 },
 "nbformat": 4,
 "nbformat_minor": 2
}
